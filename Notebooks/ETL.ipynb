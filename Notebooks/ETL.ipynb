{
 "cells": [
  {
   "attachments": {},
   "cell_type": "markdown",
   "metadata": {},
   "source": [
    "# Proyecto Individual 1 (MLOPs): Sistema de Recomendación de Películas"
   ]
  },
  {
   "attachments": {},
   "cell_type": "markdown",
   "metadata": {},
   "source": [
    "## ETL"
   ]
  },
  {
   "cell_type": "code",
   "execution_count": 16,
   "metadata": {},
   "outputs": [],
   "source": [
    "'''Importamos todas las librerías que se estarán utilizando'''\n",
    "\n",
    "import pandas as pd\n",
    "import numpy as np\n",
    "import calendar\n",
    "from googletrans import Translator\n",
    "import datetime as dt\n",
    "import json"
   ]
  },
  {
   "cell_type": "code",
   "execution_count": 17,
   "metadata": {},
   "outputs": [
    {
     "name": "stderr",
     "output_type": "stream",
     "text": [
      "C:\\Users\\Luis\\AppData\\Local\\Temp\\ipykernel_8632\\3558972948.py:3: DtypeWarning: Columns (10) have mixed types. Specify dtype option on import or set low_memory=False.\n",
      "  movies_df = pd.read_csv('Dataset/movies_dataset.csv')\n"
     ]
    },
    {
     "data": {
      "text/html": [
       "<div>\n",
       "<style scoped>\n",
       "    .dataframe tbody tr th:only-of-type {\n",
       "        vertical-align: middle;\n",
       "    }\n",
       "\n",
       "    .dataframe tbody tr th {\n",
       "        vertical-align: top;\n",
       "    }\n",
       "\n",
       "    .dataframe thead th {\n",
       "        text-align: right;\n",
       "    }\n",
       "</style>\n",
       "<table border=\"1\" class=\"dataframe\">\n",
       "  <thead>\n",
       "    <tr style=\"text-align: right;\">\n",
       "      <th></th>\n",
       "      <th>adult</th>\n",
       "      <th>belongs_to_collection</th>\n",
       "      <th>budget</th>\n",
       "      <th>genres</th>\n",
       "      <th>homepage</th>\n",
       "      <th>id</th>\n",
       "      <th>imdb_id</th>\n",
       "      <th>original_language</th>\n",
       "      <th>original_title</th>\n",
       "      <th>overview</th>\n",
       "      <th>...</th>\n",
       "      <th>release_date</th>\n",
       "      <th>revenue</th>\n",
       "      <th>runtime</th>\n",
       "      <th>spoken_languages</th>\n",
       "      <th>status</th>\n",
       "      <th>tagline</th>\n",
       "      <th>title</th>\n",
       "      <th>video</th>\n",
       "      <th>vote_average</th>\n",
       "      <th>vote_count</th>\n",
       "    </tr>\n",
       "  </thead>\n",
       "  <tbody>\n",
       "    <tr>\n",
       "      <th>0</th>\n",
       "      <td>False</td>\n",
       "      <td>{'id': 10194, 'name': 'Toy Story Collection', ...</td>\n",
       "      <td>30000000</td>\n",
       "      <td>[{'id': 16, 'name': 'Animation'}, {'id': 35, '...</td>\n",
       "      <td>http://toystory.disney.com/toy-story</td>\n",
       "      <td>862</td>\n",
       "      <td>tt0114709</td>\n",
       "      <td>en</td>\n",
       "      <td>Toy Story</td>\n",
       "      <td>Led by Woody, Andy's toys live happily in his ...</td>\n",
       "      <td>...</td>\n",
       "      <td>1995-10-30</td>\n",
       "      <td>373554033.0</td>\n",
       "      <td>81.0</td>\n",
       "      <td>[{'iso_639_1': 'en', 'name': 'English'}]</td>\n",
       "      <td>Released</td>\n",
       "      <td>NaN</td>\n",
       "      <td>Toy Story</td>\n",
       "      <td>False</td>\n",
       "      <td>7.7</td>\n",
       "      <td>5415.0</td>\n",
       "    </tr>\n",
       "    <tr>\n",
       "      <th>1</th>\n",
       "      <td>False</td>\n",
       "      <td>NaN</td>\n",
       "      <td>65000000</td>\n",
       "      <td>[{'id': 12, 'name': 'Adventure'}, {'id': 14, '...</td>\n",
       "      <td>NaN</td>\n",
       "      <td>8844</td>\n",
       "      <td>tt0113497</td>\n",
       "      <td>en</td>\n",
       "      <td>Jumanji</td>\n",
       "      <td>When siblings Judy and Peter discover an encha...</td>\n",
       "      <td>...</td>\n",
       "      <td>1995-12-15</td>\n",
       "      <td>262797249.0</td>\n",
       "      <td>104.0</td>\n",
       "      <td>[{'iso_639_1': 'en', 'name': 'English'}, {'iso...</td>\n",
       "      <td>Released</td>\n",
       "      <td>Roll the dice and unleash the excitement!</td>\n",
       "      <td>Jumanji</td>\n",
       "      <td>False</td>\n",
       "      <td>6.9</td>\n",
       "      <td>2413.0</td>\n",
       "    </tr>\n",
       "    <tr>\n",
       "      <th>2</th>\n",
       "      <td>False</td>\n",
       "      <td>{'id': 119050, 'name': 'Grumpy Old Men Collect...</td>\n",
       "      <td>0</td>\n",
       "      <td>[{'id': 10749, 'name': 'Romance'}, {'id': 35, ...</td>\n",
       "      <td>NaN</td>\n",
       "      <td>15602</td>\n",
       "      <td>tt0113228</td>\n",
       "      <td>en</td>\n",
       "      <td>Grumpier Old Men</td>\n",
       "      <td>A family wedding reignites the ancient feud be...</td>\n",
       "      <td>...</td>\n",
       "      <td>1995-12-22</td>\n",
       "      <td>0.0</td>\n",
       "      <td>101.0</td>\n",
       "      <td>[{'iso_639_1': 'en', 'name': 'English'}]</td>\n",
       "      <td>Released</td>\n",
       "      <td>Still Yelling. Still Fighting. Still Ready for...</td>\n",
       "      <td>Grumpier Old Men</td>\n",
       "      <td>False</td>\n",
       "      <td>6.5</td>\n",
       "      <td>92.0</td>\n",
       "    </tr>\n",
       "    <tr>\n",
       "      <th>3</th>\n",
       "      <td>False</td>\n",
       "      <td>NaN</td>\n",
       "      <td>16000000</td>\n",
       "      <td>[{'id': 35, 'name': 'Comedy'}, {'id': 18, 'nam...</td>\n",
       "      <td>NaN</td>\n",
       "      <td>31357</td>\n",
       "      <td>tt0114885</td>\n",
       "      <td>en</td>\n",
       "      <td>Waiting to Exhale</td>\n",
       "      <td>Cheated on, mistreated and stepped on, the wom...</td>\n",
       "      <td>...</td>\n",
       "      <td>1995-12-22</td>\n",
       "      <td>81452156.0</td>\n",
       "      <td>127.0</td>\n",
       "      <td>[{'iso_639_1': 'en', 'name': 'English'}]</td>\n",
       "      <td>Released</td>\n",
       "      <td>Friends are the people who let you be yourself...</td>\n",
       "      <td>Waiting to Exhale</td>\n",
       "      <td>False</td>\n",
       "      <td>6.1</td>\n",
       "      <td>34.0</td>\n",
       "    </tr>\n",
       "    <tr>\n",
       "      <th>4</th>\n",
       "      <td>False</td>\n",
       "      <td>{'id': 96871, 'name': 'Father of the Bride Col...</td>\n",
       "      <td>0</td>\n",
       "      <td>[{'id': 35, 'name': 'Comedy'}]</td>\n",
       "      <td>NaN</td>\n",
       "      <td>11862</td>\n",
       "      <td>tt0113041</td>\n",
       "      <td>en</td>\n",
       "      <td>Father of the Bride Part II</td>\n",
       "      <td>Just when George Banks has recovered from his ...</td>\n",
       "      <td>...</td>\n",
       "      <td>1995-02-10</td>\n",
       "      <td>76578911.0</td>\n",
       "      <td>106.0</td>\n",
       "      <td>[{'iso_639_1': 'en', 'name': 'English'}]</td>\n",
       "      <td>Released</td>\n",
       "      <td>Just When His World Is Back To Normal... He's ...</td>\n",
       "      <td>Father of the Bride Part II</td>\n",
       "      <td>False</td>\n",
       "      <td>5.7</td>\n",
       "      <td>173.0</td>\n",
       "    </tr>\n",
       "  </tbody>\n",
       "</table>\n",
       "<p>5 rows × 24 columns</p>\n",
       "</div>"
      ],
      "text/plain": [
       "   adult                              belongs_to_collection    budget  \\\n",
       "0  False  {'id': 10194, 'name': 'Toy Story Collection', ...  30000000   \n",
       "1  False                                                NaN  65000000   \n",
       "2  False  {'id': 119050, 'name': 'Grumpy Old Men Collect...         0   \n",
       "3  False                                                NaN  16000000   \n",
       "4  False  {'id': 96871, 'name': 'Father of the Bride Col...         0   \n",
       "\n",
       "                                              genres  \\\n",
       "0  [{'id': 16, 'name': 'Animation'}, {'id': 35, '...   \n",
       "1  [{'id': 12, 'name': 'Adventure'}, {'id': 14, '...   \n",
       "2  [{'id': 10749, 'name': 'Romance'}, {'id': 35, ...   \n",
       "3  [{'id': 35, 'name': 'Comedy'}, {'id': 18, 'nam...   \n",
       "4                     [{'id': 35, 'name': 'Comedy'}]   \n",
       "\n",
       "                               homepage     id    imdb_id original_language  \\\n",
       "0  http://toystory.disney.com/toy-story    862  tt0114709                en   \n",
       "1                                   NaN   8844  tt0113497                en   \n",
       "2                                   NaN  15602  tt0113228                en   \n",
       "3                                   NaN  31357  tt0114885                en   \n",
       "4                                   NaN  11862  tt0113041                en   \n",
       "\n",
       "                original_title  \\\n",
       "0                    Toy Story   \n",
       "1                      Jumanji   \n",
       "2             Grumpier Old Men   \n",
       "3            Waiting to Exhale   \n",
       "4  Father of the Bride Part II   \n",
       "\n",
       "                                            overview  ... release_date  \\\n",
       "0  Led by Woody, Andy's toys live happily in his ...  ...   1995-10-30   \n",
       "1  When siblings Judy and Peter discover an encha...  ...   1995-12-15   \n",
       "2  A family wedding reignites the ancient feud be...  ...   1995-12-22   \n",
       "3  Cheated on, mistreated and stepped on, the wom...  ...   1995-12-22   \n",
       "4  Just when George Banks has recovered from his ...  ...   1995-02-10   \n",
       "\n",
       "       revenue runtime                                   spoken_languages  \\\n",
       "0  373554033.0    81.0           [{'iso_639_1': 'en', 'name': 'English'}]   \n",
       "1  262797249.0   104.0  [{'iso_639_1': 'en', 'name': 'English'}, {'iso...   \n",
       "2          0.0   101.0           [{'iso_639_1': 'en', 'name': 'English'}]   \n",
       "3   81452156.0   127.0           [{'iso_639_1': 'en', 'name': 'English'}]   \n",
       "4   76578911.0   106.0           [{'iso_639_1': 'en', 'name': 'English'}]   \n",
       "\n",
       "     status                                            tagline  \\\n",
       "0  Released                                                NaN   \n",
       "1  Released          Roll the dice and unleash the excitement!   \n",
       "2  Released  Still Yelling. Still Fighting. Still Ready for...   \n",
       "3  Released  Friends are the people who let you be yourself...   \n",
       "4  Released  Just When His World Is Back To Normal... He's ...   \n",
       "\n",
       "                         title  video vote_average vote_count  \n",
       "0                    Toy Story  False          7.7     5415.0  \n",
       "1                      Jumanji  False          6.9     2413.0  \n",
       "2             Grumpier Old Men  False          6.5       92.0  \n",
       "3            Waiting to Exhale  False          6.1       34.0  \n",
       "4  Father of the Bride Part II  False          5.7      173.0  \n",
       "\n",
       "[5 rows x 24 columns]"
      ]
     },
     "execution_count": 17,
     "metadata": {},
     "output_type": "execute_result"
    }
   ],
   "source": [
    "''' Importamos el dataset de movies'''\n",
    "\n",
    "movies_df = pd.read_csv('Dataset/movies_dataset.csv')\n",
    "movies_df.head()"
   ]
  },
  {
   "cell_type": "code",
   "execution_count": 18,
   "metadata": {},
   "outputs": [
    {
     "data": {
      "text/plain": [
       "(45466, 24)"
      ]
     },
     "execution_count": 18,
     "metadata": {},
     "output_type": "execute_result"
    }
   ],
   "source": [
    "movies_df.shape"
   ]
  },
  {
   "cell_type": "code",
   "execution_count": 19,
   "metadata": {},
   "outputs": [
    {
     "name": "stdout",
     "output_type": "stream",
     "text": [
      "<class 'pandas.core.frame.DataFrame'>\n",
      "RangeIndex: 45466 entries, 0 to 45465\n",
      "Data columns (total 24 columns):\n",
      " #   Column                 Non-Null Count  Dtype  \n",
      "---  ------                 --------------  -----  \n",
      " 0   adult                  45466 non-null  object \n",
      " 1   belongs_to_collection  4494 non-null   object \n",
      " 2   budget                 45466 non-null  object \n",
      " 3   genres                 45466 non-null  object \n",
      " 4   homepage               7782 non-null   object \n",
      " 5   id                     45466 non-null  object \n",
      " 6   imdb_id                45449 non-null  object \n",
      " 7   original_language      45455 non-null  object \n",
      " 8   original_title         45466 non-null  object \n",
      " 9   overview               44512 non-null  object \n",
      " 10  popularity             45461 non-null  object \n",
      " 11  poster_path            45080 non-null  object \n",
      " 12  production_companies   45463 non-null  object \n",
      " 13  production_countries   45463 non-null  object \n",
      " 14  release_date           45379 non-null  object \n",
      " 15  revenue                45460 non-null  float64\n",
      " 16  runtime                45203 non-null  float64\n",
      " 17  spoken_languages       45460 non-null  object \n",
      " 18  status                 45379 non-null  object \n",
      " 19  tagline                20412 non-null  object \n",
      " 20  title                  45460 non-null  object \n",
      " 21  video                  45460 non-null  object \n",
      " 22  vote_average           45460 non-null  float64\n",
      " 23  vote_count             45460 non-null  float64\n",
      "dtypes: float64(4), object(20)\n",
      "memory usage: 8.3+ MB\n"
     ]
    }
   ],
   "source": [
    "movies_df.info()"
   ]
  },
  {
   "cell_type": "code",
   "execution_count": 20,
   "metadata": {},
   "outputs": [
    {
     "data": {
      "text/html": [
       "<div>\n",
       "<style scoped>\n",
       "    .dataframe tbody tr th:only-of-type {\n",
       "        vertical-align: middle;\n",
       "    }\n",
       "\n",
       "    .dataframe tbody tr th {\n",
       "        vertical-align: top;\n",
       "    }\n",
       "\n",
       "    .dataframe thead th {\n",
       "        text-align: right;\n",
       "    }\n",
       "</style>\n",
       "<table border=\"1\" class=\"dataframe\">\n",
       "  <thead>\n",
       "    <tr style=\"text-align: right;\">\n",
       "      <th></th>\n",
       "      <th>cast</th>\n",
       "      <th>crew</th>\n",
       "      <th>id</th>\n",
       "    </tr>\n",
       "  </thead>\n",
       "  <tbody>\n",
       "    <tr>\n",
       "      <th>0</th>\n",
       "      <td>[{'cast_id': 14, 'character': 'Woody (voice)',...</td>\n",
       "      <td>[{'credit_id': '52fe4284c3a36847f8024f49', 'de...</td>\n",
       "      <td>862</td>\n",
       "    </tr>\n",
       "    <tr>\n",
       "      <th>1</th>\n",
       "      <td>[{'cast_id': 1, 'character': 'Alan Parrish', '...</td>\n",
       "      <td>[{'credit_id': '52fe44bfc3a36847f80a7cd1', 'de...</td>\n",
       "      <td>8844</td>\n",
       "    </tr>\n",
       "    <tr>\n",
       "      <th>2</th>\n",
       "      <td>[{'cast_id': 2, 'character': 'Max Goldman', 'c...</td>\n",
       "      <td>[{'credit_id': '52fe466a9251416c75077a89', 'de...</td>\n",
       "      <td>15602</td>\n",
       "    </tr>\n",
       "    <tr>\n",
       "      <th>3</th>\n",
       "      <td>[{'cast_id': 1, 'character': \"Savannah 'Vannah...</td>\n",
       "      <td>[{'credit_id': '52fe44779251416c91011acb', 'de...</td>\n",
       "      <td>31357</td>\n",
       "    </tr>\n",
       "    <tr>\n",
       "      <th>4</th>\n",
       "      <td>[{'cast_id': 1, 'character': 'George Banks', '...</td>\n",
       "      <td>[{'credit_id': '52fe44959251416c75039ed7', 'de...</td>\n",
       "      <td>11862</td>\n",
       "    </tr>\n",
       "  </tbody>\n",
       "</table>\n",
       "</div>"
      ],
      "text/plain": [
       "                                                cast  \\\n",
       "0  [{'cast_id': 14, 'character': 'Woody (voice)',...   \n",
       "1  [{'cast_id': 1, 'character': 'Alan Parrish', '...   \n",
       "2  [{'cast_id': 2, 'character': 'Max Goldman', 'c...   \n",
       "3  [{'cast_id': 1, 'character': \"Savannah 'Vannah...   \n",
       "4  [{'cast_id': 1, 'character': 'George Banks', '...   \n",
       "\n",
       "                                                crew     id  \n",
       "0  [{'credit_id': '52fe4284c3a36847f8024f49', 'de...    862  \n",
       "1  [{'credit_id': '52fe44bfc3a36847f80a7cd1', 'de...   8844  \n",
       "2  [{'credit_id': '52fe466a9251416c75077a89', 'de...  15602  \n",
       "3  [{'credit_id': '52fe44779251416c91011acb', 'de...  31357  \n",
       "4  [{'credit_id': '52fe44959251416c75039ed7', 'de...  11862  "
      ]
     },
     "execution_count": 20,
     "metadata": {},
     "output_type": "execute_result"
    }
   ],
   "source": [
    "''' Importamos el dataset de credits'''\n",
    "\n",
    "credits_df = pd.read_csv('Dataset/credits.csv')\n",
    "credits_df.head()"
   ]
  },
  {
   "cell_type": "code",
   "execution_count": 21,
   "metadata": {},
   "outputs": [
    {
     "name": "stdout",
     "output_type": "stream",
     "text": [
      "<class 'pandas.core.frame.DataFrame'>\n",
      "RangeIndex: 45476 entries, 0 to 45475\n",
      "Data columns (total 3 columns):\n",
      " #   Column  Non-Null Count  Dtype \n",
      "---  ------  --------------  ----- \n",
      " 0   cast    45476 non-null  object\n",
      " 1   crew    45476 non-null  object\n",
      " 2   id      45476 non-null  int64 \n",
      "dtypes: int64(1), object(2)\n",
      "memory usage: 1.0+ MB\n"
     ]
    }
   ],
   "source": [
    "credits_df.info()"
   ]
  },
  {
   "cell_type": "code",
   "execution_count": 22,
   "metadata": {},
   "outputs": [
    {
     "data": {
      "text/plain": [
       "\"{'id': 10194, 'name': 'Toy Story Collection', 'poster_path': '/7G9915LfUQ2lVfwMEEhDsn3kT4B.jpg', 'backdrop_path': '/9FBwqcd9IRruEDUrTdcaafOMKUq.jpg'}\""
      ]
     },
     "execution_count": 22,
     "metadata": {},
     "output_type": "execute_result"
    }
   ],
   "source": [
    "'''Observamos como esta formada la columna belongs_to_collection'''\n",
    "\n",
    "movies_df.loc[0, 'belongs_to_collection']"
   ]
  },
  {
   "cell_type": "code",
   "execution_count": 23,
   "metadata": {},
   "outputs": [
    {
     "data": {
      "text/plain": [
       "\"[{'id': 16, 'name': 'Animation'}, {'id': 35, 'name': 'Comedy'}, {'id': 10751, 'name': 'Family'}]\""
      ]
     },
     "execution_count": 23,
     "metadata": {},
     "output_type": "execute_result"
    }
   ],
   "source": [
    "'''Observamos como esta formada la columna genres'''\n",
    "movies_df.loc[0, 'genres']"
   ]
  },
  {
   "cell_type": "code",
   "execution_count": 24,
   "metadata": {},
   "outputs": [
    {
     "data": {
      "text/plain": [
       "Index(['adult', 'belongs_to_collection', 'budget', 'genres', 'homepage', 'id',\n",
       "       'imdb_id', 'original_language', 'original_title', 'overview',\n",
       "       'popularity', 'poster_path', 'production_companies',\n",
       "       'production_countries', 'release_date', 'revenue', 'runtime',\n",
       "       'spoken_languages', 'status', 'tagline', 'title', 'video',\n",
       "       'vote_average', 'vote_count'],\n",
       "      dtype='object')"
      ]
     },
     "execution_count": 24,
     "metadata": {},
     "output_type": "execute_result"
    }
   ],
   "source": [
    "movies_df.columns"
   ]
  },
  {
   "cell_type": "code",
   "execution_count": 25,
   "metadata": {},
   "outputs": [
    {
     "name": "stdout",
     "output_type": "stream",
     "text": [
      "[19730, 29503, 35587]\n"
     ]
    }
   ],
   "source": [
    "'''Se identifican las filas no numéricas de la columna budget:'''\n",
    "\n",
    "c = []\n",
    "for i in range(0, len(movies_df)):\n",
    "    if movies_df.loc[i, 'budget'].isalnum():\n",
    "        c = c\n",
    "    else:\n",
    "        c.append(i)\n",
    "print(c)"
   ]
  },
  {
   "cell_type": "code",
   "execution_count": 26,
   "metadata": {},
   "outputs": [
    {
     "data": {
      "text/html": [
       "<div>\n",
       "<style scoped>\n",
       "    .dataframe tbody tr th:only-of-type {\n",
       "        vertical-align: middle;\n",
       "    }\n",
       "\n",
       "    .dataframe tbody tr th {\n",
       "        vertical-align: top;\n",
       "    }\n",
       "\n",
       "    .dataframe thead th {\n",
       "        text-align: right;\n",
       "    }\n",
       "</style>\n",
       "<table border=\"1\" class=\"dataframe\">\n",
       "  <thead>\n",
       "    <tr style=\"text-align: right;\">\n",
       "      <th></th>\n",
       "      <th>adult</th>\n",
       "      <th>belongs_to_collection</th>\n",
       "      <th>budget</th>\n",
       "      <th>genres</th>\n",
       "      <th>homepage</th>\n",
       "      <th>id</th>\n",
       "      <th>imdb_id</th>\n",
       "      <th>original_language</th>\n",
       "      <th>original_title</th>\n",
       "      <th>overview</th>\n",
       "      <th>...</th>\n",
       "      <th>release_date</th>\n",
       "      <th>revenue</th>\n",
       "      <th>runtime</th>\n",
       "      <th>spoken_languages</th>\n",
       "      <th>status</th>\n",
       "      <th>tagline</th>\n",
       "      <th>title</th>\n",
       "      <th>video</th>\n",
       "      <th>vote_average</th>\n",
       "      <th>vote_count</th>\n",
       "    </tr>\n",
       "  </thead>\n",
       "  <tbody>\n",
       "    <tr>\n",
       "      <th>19730</th>\n",
       "      <td>- Written by Ørnås</td>\n",
       "      <td>0.065736</td>\n",
       "      <td>/ff9qCepilowshEtG2GYWwzt2bs4.jpg</td>\n",
       "      <td>[{'name': 'Carousel Productions', 'id': 11176}...</td>\n",
       "      <td>[{'iso_3166_1': 'CA', 'name': 'Canada'}, {'iso...</td>\n",
       "      <td>1997-08-20</td>\n",
       "      <td>0</td>\n",
       "      <td>104.0</td>\n",
       "      <td>[{'iso_639_1': 'en', 'name': 'English'}]</td>\n",
       "      <td>Released</td>\n",
       "      <td>...</td>\n",
       "      <td>1</td>\n",
       "      <td>NaN</td>\n",
       "      <td>NaN</td>\n",
       "      <td>NaN</td>\n",
       "      <td>NaN</td>\n",
       "      <td>NaN</td>\n",
       "      <td>NaN</td>\n",
       "      <td>NaN</td>\n",
       "      <td>NaN</td>\n",
       "      <td>NaN</td>\n",
       "    </tr>\n",
       "    <tr>\n",
       "      <th>29503</th>\n",
       "      <td>Rune Balot goes to a casino connected to the ...</td>\n",
       "      <td>1.931659</td>\n",
       "      <td>/zV8bHuSL6WXoD6FWogP9j4x80bL.jpg</td>\n",
       "      <td>[{'name': 'Aniplex', 'id': 2883}, {'name': 'Go...</td>\n",
       "      <td>[{'iso_3166_1': 'US', 'name': 'United States o...</td>\n",
       "      <td>2012-09-29</td>\n",
       "      <td>0</td>\n",
       "      <td>68.0</td>\n",
       "      <td>[{'iso_639_1': 'ja', 'name': '日本語'}]</td>\n",
       "      <td>Released</td>\n",
       "      <td>...</td>\n",
       "      <td>12</td>\n",
       "      <td>NaN</td>\n",
       "      <td>NaN</td>\n",
       "      <td>NaN</td>\n",
       "      <td>NaN</td>\n",
       "      <td>NaN</td>\n",
       "      <td>NaN</td>\n",
       "      <td>NaN</td>\n",
       "      <td>NaN</td>\n",
       "      <td>NaN</td>\n",
       "    </tr>\n",
       "    <tr>\n",
       "      <th>35587</th>\n",
       "      <td>Avalanche Sharks tells the story of a bikini ...</td>\n",
       "      <td>2.185485</td>\n",
       "      <td>/zaSf5OG7V8X8gqFvly88zDdRm46.jpg</td>\n",
       "      <td>[{'name': 'Odyssey Media', 'id': 17161}, {'nam...</td>\n",
       "      <td>[{'iso_3166_1': 'CA', 'name': 'Canada'}]</td>\n",
       "      <td>2014-01-01</td>\n",
       "      <td>0</td>\n",
       "      <td>82.0</td>\n",
       "      <td>[{'iso_639_1': 'en', 'name': 'English'}]</td>\n",
       "      <td>Released</td>\n",
       "      <td>...</td>\n",
       "      <td>22</td>\n",
       "      <td>NaN</td>\n",
       "      <td>NaN</td>\n",
       "      <td>NaN</td>\n",
       "      <td>NaN</td>\n",
       "      <td>NaN</td>\n",
       "      <td>NaN</td>\n",
       "      <td>NaN</td>\n",
       "      <td>NaN</td>\n",
       "      <td>NaN</td>\n",
       "    </tr>\n",
       "  </tbody>\n",
       "</table>\n",
       "<p>3 rows × 24 columns</p>\n",
       "</div>"
      ],
      "text/plain": [
       "                                                   adult  \\\n",
       "19730                                 - Written by Ørnås   \n",
       "29503   Rune Balot goes to a casino connected to the ...   \n",
       "35587   Avalanche Sharks tells the story of a bikini ...   \n",
       "\n",
       "      belongs_to_collection                            budget  \\\n",
       "19730              0.065736  /ff9qCepilowshEtG2GYWwzt2bs4.jpg   \n",
       "29503              1.931659  /zV8bHuSL6WXoD6FWogP9j4x80bL.jpg   \n",
       "35587              2.185485  /zaSf5OG7V8X8gqFvly88zDdRm46.jpg   \n",
       "\n",
       "                                                  genres  \\\n",
       "19730  [{'name': 'Carousel Productions', 'id': 11176}...   \n",
       "29503  [{'name': 'Aniplex', 'id': 2883}, {'name': 'Go...   \n",
       "35587  [{'name': 'Odyssey Media', 'id': 17161}, {'nam...   \n",
       "\n",
       "                                                homepage          id imdb_id  \\\n",
       "19730  [{'iso_3166_1': 'CA', 'name': 'Canada'}, {'iso...  1997-08-20       0   \n",
       "29503  [{'iso_3166_1': 'US', 'name': 'United States o...  2012-09-29       0   \n",
       "35587           [{'iso_3166_1': 'CA', 'name': 'Canada'}]  2014-01-01       0   \n",
       "\n",
       "      original_language                            original_title  overview  \\\n",
       "19730             104.0  [{'iso_639_1': 'en', 'name': 'English'}]  Released   \n",
       "29503              68.0      [{'iso_639_1': 'ja', 'name': '日本語'}]  Released   \n",
       "35587              82.0  [{'iso_639_1': 'en', 'name': 'English'}]  Released   \n",
       "\n",
       "       ... release_date revenue runtime spoken_languages status  tagline  \\\n",
       "19730  ...            1     NaN     NaN              NaN    NaN      NaN   \n",
       "29503  ...           12     NaN     NaN              NaN    NaN      NaN   \n",
       "35587  ...           22     NaN     NaN              NaN    NaN      NaN   \n",
       "\n",
       "       title video vote_average vote_count  \n",
       "19730    NaN   NaN          NaN        NaN  \n",
       "29503    NaN   NaN          NaN        NaN  \n",
       "35587    NaN   NaN          NaN        NaN  \n",
       "\n",
       "[3 rows x 24 columns]"
      ]
     },
     "execution_count": 26,
     "metadata": {},
     "output_type": "execute_result"
    }
   ],
   "source": [
    "'''Observamos las 3 filas que no nos permiten realizar el cambio del tipo de dato'''\n",
    "\n",
    "movies_df.loc[[19730, 29503, 35587]]\n"
   ]
  },
  {
   "cell_type": "code",
   "execution_count": 27,
   "metadata": {},
   "outputs": [],
   "source": [
    "'''Creamos una función que nos ayudará a realizar las conversiones necesarias para arreglar las filas mencionadas.\n",
    "    Los cambios que se realizan siguen una secuencia para evitar la pérdida de información. Se debe pasar\n",
    "    el número de la fila a la función'''\n",
    "\n",
    "def repair(x):\n",
    "    movies_df.loc[x, 'status'] = movies_df.loc[x, 'overview']\n",
    "    movies_df.loc[x, 'title'] = movies_df.loc[x, 'poster_path']\n",
    "    movies_df.loc[x, 'vote_average'] = movies_df.loc[x, 'production_countries']\n",
    "    movies_df.loc[x, 'vote_count'] = movies_df.loc[x, 'release_date']\n",
    "    movies_df.loc[x, 'runtime'] = movies_df.loc[x, 'original_language']\n",
    "    movies_df.loc[x, 'spoken_languages'] = movies_df.loc[x, 'original_title']\n",
    "    movies_df.loc[x, 'original_language'] = np.nan\n",
    "    movies_df.loc[x, 'overview'] = movies_df.loc[x, 'adult']\n",
    "    movies_df.loc[x, 'poster_path'] = movies_df.loc[x, 'budget']\n",
    "    movies_df.loc[x, 'production_countries'] = movies_df.loc[x, 'homepage']\n",
    "    movies_df.loc[x, 'release_date'] = movies_df.loc[x, 'id']\n",
    "    movies_df.loc[x, 'original_title'] = movies_df.loc[x, 'popularity']\n",
    "    movies_df.loc[x, 'id'] = np.nan\n",
    "    movies_df.loc[x, 'homepage'] = np.nan\n",
    "    movies_df.loc[x, 'adult'] = movies_df.loc[x, 'production_companies']\n",
    "    movies_df.loc[x, 'budget'] = movies_df.loc[x, 'imdb_id']\n",
    "    movies_df.loc[x, 'popularity'] = movies_df.loc[x, 'belongs_to_collection']\n",
    "    movies_df.loc[x, 'belongs_to_collection'] = np.nan\n",
    "    movies_df.loc[x, 'imdb_id'] = np.nan\n",
    "    movies_df.loc[x, 'production_companies'] = movies_df.loc[x, 'genres']\n",
    "    movies_df.loc[x, 'genres'] = np.nan"
   ]
  },
  {
   "cell_type": "code",
   "execution_count": 28,
   "metadata": {},
   "outputs": [],
   "source": [
    "'''Aplicamos la función a las 3 filas mencionadas:'''\n",
    "\n",
    "repair(19730)\n",
    "repair(29503)\n",
    "repair(35587)"
   ]
  },
  {
   "cell_type": "code",
   "execution_count": 29,
   "metadata": {},
   "outputs": [],
   "source": [
    "'''Realizamos el cambio de tipo de la columna budget, id y popularity:'''\n",
    "\n",
    "movies_df['budget'] = movies_df['budget'].astype(float)\n",
    "movies_df['id'] = movies_df['id'].astype(float)\n",
    "movies_df['popularity'] = movies_df['popularity'].astype(float)"
   ]
  },
  {
   "cell_type": "code",
   "execution_count": 30,
   "metadata": {},
   "outputs": [],
   "source": [
    "'''Unimos las columnas cast y crew de credits_df con movies_df a partir del id de las películas'''\n",
    "\n",
    "movies_df = movies_df.merge(credits_df, on = 'id')"
   ]
  },
  {
   "cell_type": "code",
   "execution_count": 31,
   "metadata": {},
   "outputs": [],
   "source": [
    "''' Ahora comencemos a desanidar las columnas. Primero belongs_to_collection. En este caso se dejará solo\n",
    "    el nombre de la colección a la que pertenezca la película, los demás valores serán removidos.'''\n",
    "\n",
    "lista_index = movies_df[movies_df['belongs_to_collection'].notnull()].index\n",
    "\n",
    "for i in range(0, movies_df.shape[0]):\n",
    "    if i not in lista_index:        \n",
    "        movies_df.loc[i, 'name_collection'] = np.nan\n",
    "    else:\n",
    "        a = list(eval(movies_df.loc[i, 'belongs_to_collection']).values())                \n",
    "        movies_df.loc[i, 'name_collection'] = a[1]"
   ]
  },
  {
   "cell_type": "code",
   "execution_count": 32,
   "metadata": {},
   "outputs": [],
   "source": [
    "'''Eliminamos la columna belongs_to_collection, ya que no nos será de más utilidad'''\n",
    "\n",
    "movies_df.drop(columns = ['belongs_to_collection'], inplace = True)"
   ]
  },
  {
   "cell_type": "code",
   "execution_count": 33,
   "metadata": {},
   "outputs": [],
   "source": [
    "''' Ahora trabajamos con las demás columnas anidadas. Se crearan nuevas columnas tantos valores estén\n",
    "    anidados. Esto para poder usar los valores anidados en el modelado.\n",
    "    Se creará una función que facilite hacer este trabajo.'''\n",
    "\n",
    "''' Este es la función para cambiar los valores de la columna por listas con los valores importantes \n",
    "    en los diccionarios anidados.'''\n",
    "def separar_anidados(column, df, indice_valor):\n",
    "    l = df[df[column].notnull()].index\n",
    "    for i in range(0, df.shape[0]):\n",
    "        column_list = []\n",
    "        if i in l:\n",
    "            column_list = eval(df.loc[i, column])    \n",
    "            lista_valores = []\n",
    "            for j in range(0, len(column_list)):\n",
    "                lista_valores.append(list(column_list[j].values())[indice_valor])\n",
    "            df.loc[[i], column] = pd.Series([lista_valores], index=df.index[[i]])  "
   ]
  },
  {
   "cell_type": "code",
   "execution_count": 34,
   "metadata": {},
   "outputs": [],
   "source": [
    "'''Aplicamos la función creada a genres y production_companies, las columnas production_countries y spoken_languages\n",
    "    también están anidadas, pero no se utilizarán en las etapas posteriores del proyecto, por lo tanto no\n",
    "    se transforman y se eliminarán más adelante'''\n",
    "\n",
    "separar_anidados('genres', movies_df, 1)\n",
    "separar_anidados('production_companies', movies_df, 0)"
   ]
  },
  {
   "cell_type": "code",
   "execution_count": 35,
   "metadata": {},
   "outputs": [],
   "source": [
    "'''Trabajamos con los valores anidados de la columna cast, se tomarán solo los nombre de los actores'''\n",
    "\n",
    "cast_final_list = []\n",
    "for i in range(0, movies_df.shape[0]): \n",
    "    cast_list =[]\n",
    "    for l in eval(movies_df.loc[i, 'cast']):\n",
    "        cast_list.append(l['name'])\n",
    "    cast_final_list.append(cast_list)\n",
    "cast_serie = pd.Series(cast_final_list)\n",
    "movies_df['cast'] = cast_serie"
   ]
  },
  {
   "cell_type": "code",
   "execution_count": 36,
   "metadata": {},
   "outputs": [],
   "source": [
    "''' Ahora trabajamos con la columna crew. Extraeremos solo el nombre de los directores de las películas.\n",
    "    Luego crearemos una nueva columna llamada directors y eliminaremos la columna crew.'''\n",
    "\n",
    "directors = []\n",
    "for i in range(0, movies_df.shape[0]):\n",
    "    l = eval(movies_df.loc[i, 'crew'])\n",
    "    director_list = []\n",
    "    for x in l:\n",
    "        if x['job'] == 'Director':\n",
    "            director_list.append(x['name'])\n",
    "    directors.append(director_list)\n",
    "director_serie = pd.Series(directors)\n",
    "movies_df['directors'] = director_serie\n",
    "movies_df.drop(columns = ['crew'], inplace = True)"
   ]
  },
  {
   "cell_type": "code",
   "execution_count": 37,
   "metadata": {},
   "outputs": [],
   "source": [
    "'''Se reemplazan los valores nulos de las columnas revenue y budget por 0:'''\n",
    "\n",
    "movies_df['budget'].fillna(0, inplace = True)\n",
    "movies_df['revenue'].fillna(0, inplace = True)"
   ]
  },
  {
   "cell_type": "code",
   "execution_count": 38,
   "metadata": {},
   "outputs": [
    {
     "data": {
      "text/plain": [
       "87"
      ]
     },
     "execution_count": 38,
     "metadata": {},
     "output_type": "execute_result"
    }
   ],
   "source": [
    "'''Se ven cuantos valores nulos están presentes en la columna release_date'''\n",
    "\n",
    "movies_df[movies_df['release_date'].isnull()]['adult'].count()"
   ]
  },
  {
   "cell_type": "code",
   "execution_count": 39,
   "metadata": {},
   "outputs": [],
   "source": [
    "''' Como se observa, solo hay 87 valores nulos de 45466 valores en total, por esto se eliminan los datos nulos\n",
    "    de release_date, pero antes se crea una lista con los id de las películas que se van a eliminar.'''\n",
    "\n",
    "lista_eliminados = movies_df[movies_df['release_date'].isnull()]['id'].to_list()\n",
    "\n",
    "movies_df.dropna(subset = ['release_date'], axis = 'index', inplace = True)"
   ]
  },
  {
   "cell_type": "code",
   "execution_count": 40,
   "metadata": {},
   "outputs": [],
   "source": [
    "# Se cambia el tipo de datos de la columna release_date y se crea la columna release_year\n",
    "\n",
    "movies_df['release_date'] = pd.to_datetime(movies_df['release_date']) # Cambio de formato a formato date\n",
    "movies_df['release_year'] = movies_df['release_date'].dt.year # Creación de columna release_year\n",
    "movies_df['release_year'] = movies_df['release_year'].astype(int) # Cambio de tipo de la columna release_year a int"
   ]
  },
  {
   "cell_type": "code",
   "execution_count": 41,
   "metadata": {},
   "outputs": [],
   "source": [
    "# Se resetean los índices para no tener índices faltantes y se pueda recorrer el dataframe sin problemas.\n",
    "\n",
    "movies_df = movies_df.reset_index()"
   ]
  },
  {
   "cell_type": "code",
   "execution_count": 42,
   "metadata": {},
   "outputs": [],
   "source": [
    "'''Se crea la columna return con el retorno de la inversión, dividiendo revenue / budget.\n",
    "    Como la columna budget tiene valores que son 0 y la división entre 0 no está definida, se llenará\n",
    "    la columna return con 0 en estos casos.'''\n",
    "\n",
    "for i in range(0, movies_df.shape[0]):\n",
    "    if movies_df.loc[i, 'budget'] != 0:\n",
    "        movies_df.loc[i, 'return'] = movies_df.loc[i, 'revenue'] / movies_df.loc[i, 'budget']\n",
    "    else:\n",
    "        movies_df.loc[i, 'return'] = 0\n",
    "movies_df['return'].fillna(0, inplace = True)"
   ]
  },
  {
   "cell_type": "code",
   "execution_count": 43,
   "metadata": {},
   "outputs": [],
   "source": [
    "'''Se eliminan las columnas que no se utilizarán'''\n",
    "\n",
    "movies_df.drop(columns = ['video', 'imdb_id', 'adult', 'original_title', 'poster_path', 'homepage', 'production_countries', 'tagline', 'spoken_languages'], inplace = True)"
   ]
  },
  {
   "cell_type": "code",
   "execution_count": 44,
   "metadata": {},
   "outputs": [],
   "source": [
    "'''Se elimina la columna index y se cambia el tipo de datos de la columna vote_count y vote_average a float'''\n",
    "\n",
    "movies_df.drop(columns = ['index'], inplace = True)\n",
    "movies_df['vote_count'] = movies_df['vote_count'].astype(float)\n",
    "movies_df['vote_average'] = movies_df['vote_average'].astype(float)"
   ]
  },
  {
   "cell_type": "code",
   "execution_count": 45,
   "metadata": {},
   "outputs": [
    {
     "data": {
      "text/plain": [
       "[5511.0,\n",
       " 18440.0,\n",
       " 23305.0,\n",
       " 109962.0,\n",
       " 99080.0,\n",
       " 125458.0,\n",
       " 141971.0,\n",
       " 187156.0,\n",
       " 13209.0,\n",
       " 9755.0,\n",
       " 132641.0,\n",
       " 77221.0,\n",
       " 199591.0,\n",
       " 4912.0,\n",
       " 15028.0,\n",
       " 12600.0,\n",
       " 8767.0,\n",
       " 14788.0,\n",
       " 25541.0,\n",
       " 97995.0,\n",
       " 105045.0,\n",
       " 24023.0,\n",
       " 168538.0,\n",
       " 152795.0,\n",
       " 110428.0,\n",
       " 24026.0,\n",
       " 298721.0,\n",
       " 142563.0,\n",
       " 265189.0,\n",
       " 84198.0,\n",
       " 11752.0,\n",
       " 159849.0,\n",
       " 11115.0,\n",
       " 119916.0,\n",
       " 43629.0,\n",
       " 10991.0,\n",
       " 3057.0,\n",
       " 69234.0,\n",
       " 116723.0,\n",
       " 123634.0,\n",
       " 157301.0,\n",
       " 22649.0,\n",
       " 42495.0]"
      ]
     },
     "execution_count": 45,
     "metadata": {},
     "output_type": "execute_result"
    }
   ],
   "source": [
    "'''Evaluamos los duplicados en la columna id'''\n",
    "list(set(movies_df[movies_df.duplicated('id')]['id'].to_list()))"
   ]
  },
  {
   "cell_type": "code",
   "execution_count": 46,
   "metadata": {},
   "outputs": [],
   "source": [
    "''' Se comparará la fecha de las filas duplicadas. Si hay diferencia de fecha se dejará la mayor, porque\n",
    "    representa una actualización. Si las fechas son las mismas entonces se borrará uno de los registros.'''\n",
    "\n",
    "peliculas_duplicadas = list(set(movies_df[movies_df.duplicated('id')]['id'].dropna().to_list()))\n",
    "\n",
    "for i in peliculas_duplicadas:\n",
    "    index_list = list(movies_df[movies_df['id'] == i].index)\n",
    "    index_save = movies_df.loc[index_list[0], 'release_date'].date()\n",
    "    drop_index = []\n",
    "    for j in range(1, len(index_list)):\n",
    "        if index_save < movies_df.loc[index_list[j], 'release_date'].date():\n",
    "            index_save = movies_df.loc[index_list[j], 'release_date'].date()\n",
    "        else:\n",
    "            drop_index.append(index_list[j])\n",
    "    movies_df.drop(index = drop_index, inplace = True)    "
   ]
  },
  {
   "cell_type": "code",
   "execution_count": 47,
   "metadata": {},
   "outputs": [],
   "source": [
    "'''Eliminamos los 2 valores nulos de la columna id, reseteamos los índices y borramos la columna index'''\n",
    "\n",
    "movies_df.dropna(subset = ['id'], axis = 'index', inplace = True)\n",
    "movies_df = movies_df.reset_index()\n",
    "movies_df.drop(columns = ['index'], inplace = True)"
   ]
  },
  {
   "cell_type": "code",
   "execution_count": 48,
   "metadata": {},
   "outputs": [],
   "source": [
    "'''Quitaremos los espacios de las columnas genres, cast y crew'''\n",
    "\n",
    "movies_df['genres'] = movies_df['genres'].apply(lambda x: [i.replace(' ', '') for i in x])\n",
    "movies_df['cast'] = movies_df['cast'].apply(lambda x: [i.replace(' ', '') for i in x])\n",
    "movies_df['directors'] = movies_df['directors'].apply(lambda x: [i.replace(' ', '') for i in x])"
   ]
  },
  {
   "cell_type": "code",
   "execution_count": 49,
   "metadata": {},
   "outputs": [],
   "source": [
    "''' Rellenamos los espacios nulos de overview con strings vacios y convertimos la columna en una lista. Además, \n",
    "    creamos una nueva columna que contendrá el título en formato de lista'''\n",
    "\n",
    "movies_df['overview'] = movies_df['overview'].fillna(' ')\n",
    "movies_df['overview'] = movies_df['overview'].apply(lambda x: x.split())\n",
    "movies_df['title_list'] = movies_df['title'].apply(lambda x: x.split())"
   ]
  },
  {
   "cell_type": "code",
   "execution_count": 50,
   "metadata": {},
   "outputs": [],
   "source": [
    "''' Creamos una nueva columna llamada union que será la combinación de las columnas: título_list, overview, genres,\n",
    "    cast, director y production_companies quitándole los espacios en blanco, y la convertimos a string. \n",
    "    Esta columna nos ayudará con el modelado del sistema de recomendación'''\n",
    "\n",
    "movies_df['union'] = movies_df['title_list'] + movies_df['overview'] + movies_df['genres'] + movies_df['cast'] + movies_df['directors'] + movies_df['production_companies'].apply(lambda x: [i.replace(' ', '') for i in x])\n",
    "movies_df['union'] = movies_df['union'].apply(lambda x: ' '.join(x))"
   ]
  },
  {
   "cell_type": "code",
   "execution_count": 51,
   "metadata": {},
   "outputs": [],
   "source": [
    "''' Ahora trabajamos sobre el dataset de credtis.\n",
    "    Eliminamos de credits_df los id de las películas que fueron eliminados en movies_df.'''\n",
    "\n",
    "deleted_index = []\n",
    "\n",
    "for i in range(0, credits_df.shape[0]):\n",
    "    if credits_df.loc[i, 'id'] in lista_eliminados:\n",
    "        deleted_index.append(i)\n",
    "\n",
    "credits_df.drop(index = deleted_index, inplace = True)"
   ]
  },
  {
   "cell_type": "code",
   "execution_count": 52,
   "metadata": {},
   "outputs": [],
   "source": [
    "'''Reseteamos los índices y borramos la columna index que se forma'''\n",
    "\n",
    "credits_df = credits_df.reset_index()\n",
    "credits_df.drop(columns = ['index'], inplace = True)"
   ]
  },
  {
   "cell_type": "code",
   "execution_count": 53,
   "metadata": {},
   "outputs": [],
   "source": [
    "'''Se crearan 2 Dataframe nuevos, uno para el cast y otro para el crew. Se tomarán los datos más importantes\n",
    "de cada una de las columnas para los nuevos dataframes. Una vez creados, se dejará de tomar en cuenta el \n",
    "dataframe de credits.\n",
    "\n",
    "Se crea el dataframe del cast'''\n",
    "\n",
    "cast_list = ['name']\n",
    "\n",
    "cast_l = []\n",
    "for j, y in credits_df.iterrows():    \n",
    "    lista_valores = eval(credits_df.loc[j, 'cast'])\n",
    "    for k in range(0, len(lista_valores)):\n",
    "        value_list = []\n",
    "        for x in cast_list:\n",
    "            value_list.append(lista_valores[k][x])\n",
    "        value_list.append(credits_df.loc[j, 'id'])\n",
    "        cast_l.append(value_list)\n",
    "\n",
    "cast_array = np.array(cast_l)\n",
    "cast_df = pd.DataFrame(cast_array, columns = ['name', 'movie_id'])"
   ]
  },
  {
   "cell_type": "code",
   "execution_count": 54,
   "metadata": {},
   "outputs": [],
   "source": [
    "'''Se crea el dataframe de crew'''\n",
    "\n",
    "crew_l = []\n",
    "for j in range(0, credits_df.shape[0]):    \n",
    "    lista_valores = eval(credits_df.loc[j, 'crew'])\n",
    "    for k in range(0, len(lista_valores)):\n",
    "        value_list = []\n",
    "        if lista_valores[k]['job'] == 'Director':\n",
    "            value_list.append(lista_valores[k]['name'])\n",
    "            value_list.append(credits_df.loc[j, 'id'])    \n",
    "            crew_l.append(value_list)\n",
    "\n",
    "crew_array = np.array(crew_l)\n",
    "director_df = pd.DataFrame(crew_array, columns = ['name', 'movie_id'])\n"
   ]
  },
  {
   "cell_type": "code",
   "execution_count": 55,
   "metadata": {},
   "outputs": [],
   "source": [
    "'''Guardamos los dataset limpios como archivos csv para usarlos en el EDA, modelado y API'''\n",
    "\n",
    "movies_df.to_csv('Movies_limpio.csv', index = False)\n",
    "cast_df.to_csv('Cast.csv', index = False)\n",
    "director_df.to_csv('Directores.csv', index = False)"
   ]
  }
 ],
 "metadata": {
  "kernelspec": {
   "display_name": "Python 3",
   "language": "python",
   "name": "python3"
  },
  "language_info": {
   "codemirror_mode": {
    "name": "ipython",
    "version": 3
   },
   "file_extension": ".py",
   "mimetype": "text/x-python",
   "name": "python",
   "nbconvert_exporter": "python",
   "pygments_lexer": "ipython3",
   "version": "3.11.3"
  },
  "orig_nbformat": 4
 },
 "nbformat": 4,
 "nbformat_minor": 2
}
